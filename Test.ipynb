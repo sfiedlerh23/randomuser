{
 "cells": [
  {
   "cell_type": "code",
   "execution_count": 27,
   "metadata": {},
   "outputs": [],
   "source": [
    "import requests\n",
    "import json\n",
    "from pprint import pprint\n"
   ]
  },
  {
   "cell_type": "code",
   "execution_count": 23,
   "metadata": {},
   "outputs": [
    {
     "name": "stdout",
     "output_type": "stream",
     "text": [
      "200\n"
     ]
    }
   ],
   "source": [
    "parameters = {\"results\": 10}\n",
    "response = requests.get(\"https://api.randomuser.me/\", params=parameters)\n",
    "print(response.status_code)\n"
   ]
  },
  {
   "cell_type": "code",
   "execution_count": 24,
   "metadata": {},
   "outputs": [
    {
     "name": "stdout",
     "output_type": "stream",
     "text": [
      "{'results': [{'gender': 'male', 'name': {'title': 'Mr', 'first': 'طاها', 'last': 'رضایی'}, 'location': {'street': {'number': 9816, 'name': 'دیباجی'}, 'city': 'گلستان', 'state': 'زنجان', 'country': 'Iran', 'postcode': 91049, 'coordinates': {'latitude': '15.8953', 'longitude': '-65.4455'}, 'timezone': {'offset': '-7:00', 'description': 'Mountain Time (US & Canada)'}}, 'email': 'th.rdyy@example.com', 'login': {'uuid': '822f4f6e-ac04-45a7-9694-cf3f70277c7b', 'username': 'purplefish803', 'password': 'geng', 'salt': 'PWbrvOCf', 'md5': 'd08bc200bdd39788b555406f34755897', 'sha1': 'c260b6eba32db0c003c07df941a92442d0365aaa', 'sha256': '0cbc7cdae5d4f9a83b507348070fdae2eb25f4d701625de477d12b7461679ccd'}, 'dob': {'date': '1999-09-14T09:55:26.172Z', 'age': 24}, 'registered': {'date': '2006-04-26T09:00:59.169Z', 'age': 18}, 'phone': '040-14484645', 'cell': '0960-829-5351', 'id': {'name': '', 'value': None}, 'picture': {'large': 'https://randomuser.me/api/portraits/men/95.jpg', 'medium': 'https://randomuser.me/api/portraits/med/men/95.jpg', 'thumbnail': 'https://randomuser.me/api/portraits/thumb/men/95.jpg'}, 'nat': 'IR'}, {'gender': 'male', 'name': {'title': 'Mr', 'first': 'طاها', 'last': 'جعفری'}, 'location': {'street': {'number': 24, 'name': 'اقبال لاهوری'}, 'city': 'زاهدان', 'state': 'گلستان', 'country': 'Iran', 'postcode': 42983, 'coordinates': {'latitude': '-10.7780', 'longitude': '15.9134'}, 'timezone': {'offset': '+6:00', 'description': 'Almaty, Dhaka, Colombo'}}, 'email': 'th.jaafry@example.com', 'login': {'uuid': '90d4f858-1968-41c0-97e5-6874e6fd6f0b', 'username': 'yellowbear741', 'password': 'hannah', 'salt': 'xFBs5x72', 'md5': '9588f48c08741b1510fde89212f3fe18', 'sha1': 'e4ecaca04d9314dc7ca8f123355a5eab956fbe81', 'sha256': 'd68d29c92b478074dbfd1a0f588e095f37e854563a4d60f0425849895df09599'}, 'dob': {'date': '1976-10-08T00:58:33.434Z', 'age': 47}, 'registered': {'date': '2002-11-14T21:49:04.680Z', 'age': 21}, 'phone': '062-40380775', 'cell': '0934-673-5932', 'id': {'name': '', 'value': None}, 'picture': {'large': 'https://randomuser.me/api/portraits/men/46.jpg', 'medium': 'https://randomuser.me/api/portraits/med/men/46.jpg', 'thumbnail': 'https://randomuser.me/api/portraits/thumb/men/46.jpg'}, 'nat': 'IR'}, {'gender': 'male', 'name': {'title': 'Mr', 'first': 'Jamie', 'last': 'Bennett'}, 'location': {'street': {'number': 3445, 'name': 'Wheeler Ridge Dr'}, 'city': 'Belen', 'state': 'Delaware', 'country': 'United States', 'postcode': 38694, 'coordinates': {'latitude': '11.8628', 'longitude': '-168.3392'}, 'timezone': {'offset': '+6:00', 'description': 'Almaty, Dhaka, Colombo'}}, 'email': 'jamie.bennett@example.com', 'login': {'uuid': '7a4704e0-bb86-47ab-99f4-4f270c5f125d', 'username': 'blacklion649', 'password': 'poncho', 'salt': 'Zglc3mzN', 'md5': 'c8895fa20a123ff78998b77cefbef9ae', 'sha1': '31801f4ea551f2bc4f00fa7dd9239be5fcb39ab7', 'sha256': 'b0d6484987a9cfe8211ed7607502feddc60e6e1e6d585d862bc354dbc960305f'}, 'dob': {'date': '1997-10-19T16:09:26.160Z', 'age': 26}, 'registered': {'date': '2011-11-17T16:34:22.309Z', 'age': 12}, 'phone': '(822) 357-9894', 'cell': '(208) 754-4054', 'id': {'name': 'SSN', 'value': '162-63-3986'}, 'picture': {'large': 'https://randomuser.me/api/portraits/men/85.jpg', 'medium': 'https://randomuser.me/api/portraits/med/men/85.jpg', 'thumbnail': 'https://randomuser.me/api/portraits/thumb/men/85.jpg'}, 'nat': 'US'}, {'gender': 'female', 'name': {'title': 'Miss', 'first': 'Supritha', 'last': 'Kavser'}, 'location': {'street': {'number': 2109, 'name': \"Coaker's Walk\"}, 'city': 'Ambattur', 'state': 'Nagaland', 'country': 'India', 'postcode': 15240, 'coordinates': {'latitude': '-70.4833', 'longitude': '-111.1459'}, 'timezone': {'offset': '-9:00', 'description': 'Alaska'}}, 'email': 'supritha.kavser@example.com', 'login': {'uuid': '0d36ab29-9e7d-4d34-a8ce-de601db87608', 'username': 'lazyrabbit916', 'password': 'q1w2e3', 'salt': 'Z5MWN3MO', 'md5': '999cbdf8382f3a92565244ebad2b47e1', 'sha1': '103e8110a0eaec363b02b8734180ecc5502c55d3', 'sha256': '39dafbfe00b953d9f31ebab7091d5f06ec854de9cd6ff7073e01bb66afecd87c'}, 'dob': {'date': '1951-04-25T20:47:07.139Z', 'age': 73}, 'registered': {'date': '2009-01-31T13:41:32.275Z', 'age': 15}, 'phone': '7894847939', 'cell': '9998917340', 'id': {'name': 'UIDAI', 'value': '939074285455'}, 'picture': {'large': 'https://randomuser.me/api/portraits/women/11.jpg', 'medium': 'https://randomuser.me/api/portraits/med/women/11.jpg', 'thumbnail': 'https://randomuser.me/api/portraits/thumb/women/11.jpg'}, 'nat': 'IN'}, {'gender': 'female', 'name': {'title': 'Miss', 'first': 'Miriam', 'last': 'Richards'}, 'location': {'street': {'number': 6309, 'name': 'Mcclellan Rd'}, 'city': 'Moscow', 'state': 'West Virginia', 'country': 'United States', 'postcode': 14963, 'coordinates': {'latitude': '-10.0584', 'longitude': '-129.9472'}, 'timezone': {'offset': '-7:00', 'description': 'Mountain Time (US & Canada)'}}, 'email': 'miriam.richards@example.com', 'login': {'uuid': '94a65ed9-8fe6-4113-b0b0-de9cae9ab7ce', 'username': 'smallmeercat818', 'password': 'rhythm', 'salt': 'NVAv1b9B', 'md5': '6d65568d11964364f72604f59febc53b', 'sha1': 'b68e874e79dd915fb7b857a26e12ab18fc509c25', 'sha256': '3b166f60f7c702fd0ff781dc48cff79724391d44994e9463f823fa2a97f0f210'}, 'dob': {'date': '1967-11-26T10:36:25.020Z', 'age': 56}, 'registered': {'date': '2020-05-08T09:10:39.254Z', 'age': 4}, 'phone': '(750) 209-3679', 'cell': '(621) 647-5691', 'id': {'name': 'SSN', 'value': '589-47-9937'}, 'picture': {'large': 'https://randomuser.me/api/portraits/women/16.jpg', 'medium': 'https://randomuser.me/api/portraits/med/women/16.jpg', 'thumbnail': 'https://randomuser.me/api/portraits/thumb/women/16.jpg'}, 'nat': 'US'}, {'gender': 'female', 'name': {'title': 'Ms', 'first': 'Adelinde', 'last': 'Speer'}, 'location': {'street': {'number': 3801, 'name': 'Dorfstraße'}, 'city': 'Bad Schmiedeberg', 'state': 'Bayern', 'country': 'Germany', 'postcode': 24769, 'coordinates': {'latitude': '-68.8646', 'longitude': '-57.4542'}, 'timezone': {'offset': '-9:00', 'description': 'Alaska'}}, 'email': 'adelinde.speer@example.com', 'login': {'uuid': '12df7d7c-f5fe-4fed-a2b5-70e5f1c64e97', 'username': 'redgorilla556', 'password': 'donald', 'salt': '3G7YbkxE', 'md5': '14c94a09dbb249af712b95142f4d93d7', 'sha1': '355f7fedb09efb180aebc5b538836cfc14a27074', 'sha256': '3d4b9e0804b0a3f98a12fdbcccbfe53dc6a014a9afea9b31f36ba940192d096d'}, 'dob': {'date': '1964-12-14T11:00:57.887Z', 'age': 59}, 'registered': {'date': '2020-06-29T07:09:58.063Z', 'age': 3}, 'phone': '0142-1593133', 'cell': '0172-2267881', 'id': {'name': 'SVNR', 'value': '80 141264 S 992'}, 'picture': {'large': 'https://randomuser.me/api/portraits/women/56.jpg', 'medium': 'https://randomuser.me/api/portraits/med/women/56.jpg', 'thumbnail': 'https://randomuser.me/api/portraits/thumb/women/56.jpg'}, 'nat': 'DE'}, {'gender': 'male', 'name': {'title': 'Mr', 'first': 'Aiden', 'last': 'Hoffman'}, 'location': {'street': {'number': 5960, 'name': 'Depaul Dr'}, 'city': 'Stanley', 'state': 'Delaware', 'country': 'United States', 'postcode': 77038, 'coordinates': {'latitude': '2.9494', 'longitude': '11.5605'}, 'timezone': {'offset': '-4:00', 'description': 'Atlantic Time (Canada), Caracas, La Paz'}}, 'email': 'aiden.hoffman@example.com', 'login': {'uuid': 'f9bc33a7-9f0a-4c65-90f7-cc9c6e2a9001', 'username': 'lazygorilla789', 'password': 'munchkin', 'salt': 'vbeE5jm3', 'md5': '7e7430ae2b30a828c7845da6bf0986df', 'sha1': '09bcc32950de0cfbabe499dec3786da0b049e0d6', 'sha256': '2a73bdb3c1d308e7e4187770774ce9e24bf59122c65887ec0928ba48e52b31bf'}, 'dob': {'date': '1962-09-13T19:17:42.310Z', 'age': 61}, 'registered': {'date': '2007-11-13T07:18:32.248Z', 'age': 16}, 'phone': '(820) 822-8955', 'cell': '(961) 667-8527', 'id': {'name': 'SSN', 'value': '311-32-6207'}, 'picture': {'large': 'https://randomuser.me/api/portraits/men/74.jpg', 'medium': 'https://randomuser.me/api/portraits/med/men/74.jpg', 'thumbnail': 'https://randomuser.me/api/portraits/thumb/men/74.jpg'}, 'nat': 'US'}, {'gender': 'female', 'name': {'title': 'Miss', 'first': 'Alex', 'last': 'Jacobs'}, 'location': {'street': {'number': 3234, 'name': 'London Road'}, 'city': 'Salford', 'state': 'West Yorkshire', 'country': 'United Kingdom', 'postcode': 'MR8H 3ED', 'coordinates': {'latitude': '75.7197', 'longitude': '-41.8631'}, 'timezone': {'offset': '+11:00', 'description': 'Magadan, Solomon Islands, New Caledonia'}}, 'email': 'alex.jacobs@example.com', 'login': {'uuid': '9cf84186-c9af-41ff-ba38-c638df7cfe5b', 'username': 'angrykoala262', 'password': 'freddie', 'salt': '59VVmAYu', 'md5': '03e0f39f576ca5d75f5b7c28b6f6bebd', 'sha1': '91119c55c67fc1f43414aabd5c43bdee0d5039eb', 'sha256': 'f55a08340ade35daa341cc3c7c10b0490957d99993376617baaa509dc536b2ff'}, 'dob': {'date': '1957-11-11T08:52:05.985Z', 'age': 66}, 'registered': {'date': '2008-08-01T16:13:45.141Z', 'age': 15}, 'phone': '0101 168 7509', 'cell': '07549 345521', 'id': {'name': 'NINO', 'value': 'RR 14 06 08 C'}, 'picture': {'large': 'https://randomuser.me/api/portraits/women/49.jpg', 'medium': 'https://randomuser.me/api/portraits/med/women/49.jpg', 'thumbnail': 'https://randomuser.me/api/portraits/thumb/women/49.jpg'}, 'nat': 'GB'}, {'gender': 'male', 'name': {'title': 'Mr', 'first': 'Cesar', 'last': 'Lozano'}, 'location': {'street': {'number': 6919, 'name': 'Calle de Argumosa'}, 'city': 'Burgos', 'state': 'Castilla y León', 'country': 'Spain', 'postcode': 31275, 'coordinates': {'latitude': '-55.4777', 'longitude': '63.2953'}, 'timezone': {'offset': '+9:00', 'description': 'Tokyo, Seoul, Osaka, Sapporo, Yakutsk'}}, 'email': 'cesar.lozano@example.com', 'login': {'uuid': '0db26311-2e8f-4d02-a74a-685e926329e6', 'username': 'orangekoala928', 'password': 'andres', 'salt': 'kVTMry4i', 'md5': 'def45b4df28e8c24ad8fa6faee6a4c96', 'sha1': '8715785c643ad9f0af70ee04c3b469f5916c3981', 'sha256': '61bb3ddf5db68ddc25509636d49f524d5a3cdca0ed90cd6bc8e2b76c6f73fdbd'}, 'dob': {'date': '1984-05-17T16:23:52.648Z', 'age': 40}, 'registered': {'date': '2018-10-14T17:42:28.652Z', 'age': 5}, 'phone': '938-871-242', 'cell': '684-150-824', 'id': {'name': 'DNI', 'value': '51531571-B'}, 'picture': {'large': 'https://randomuser.me/api/portraits/men/68.jpg', 'medium': 'https://randomuser.me/api/portraits/med/men/68.jpg', 'thumbnail': 'https://randomuser.me/api/portraits/thumb/men/68.jpg'}, 'nat': 'ES'}, {'gender': 'female', 'name': {'title': 'Miss', 'first': 'Christine', 'last': 'Steward'}, 'location': {'street': {'number': 1398, 'name': 'Spring Hill Rd'}, 'city': 'Chicago', 'state': 'Kansas', 'country': 'United States', 'postcode': 25667, 'coordinates': {'latitude': '-59.2669', 'longitude': '-36.6064'}, 'timezone': {'offset': '+3:30', 'description': 'Tehran'}}, 'email': 'christine.steward@example.com', 'login': {'uuid': '54339cce-2ff4-4f50-a492-d2b5017e23e9', 'username': 'bluebird396', 'password': 'squirt', 'salt': '8ibC70Mw', 'md5': 'd17a096f392d4102bba579267e1f8c80', 'sha1': 'd287fa1b268769a55c853c74e7f47c40108db6aa', 'sha256': '62ecb0da1371963daa52da718bb02d8427666a9d37966f2e76fb5511dd12cd99'}, 'dob': {'date': '1971-01-31T02:00:32.143Z', 'age': 53}, 'registered': {'date': '2015-10-29T15:16:06.765Z', 'age': 8}, 'phone': '(364) 744-9067', 'cell': '(924) 772-6712', 'id': {'name': 'SSN', 'value': '693-11-3549'}, 'picture': {'large': 'https://randomuser.me/api/portraits/women/87.jpg', 'medium': 'https://randomuser.me/api/portraits/med/women/87.jpg', 'thumbnail': 'https://randomuser.me/api/portraits/thumb/women/87.jpg'}, 'nat': 'US'}], 'info': {'seed': 'd85f76586edf8f72', 'results': 10, 'page': 1, 'version': '1.4'}}\n"
     ]
    }
   ],
   "source": [
    "data = json.loads(response.text)\n",
    "print(data)"
   ]
  },
  {
   "cell_type": "code",
   "execution_count": 25,
   "metadata": {},
   "outputs": [
    {
     "name": "stdout",
     "output_type": "stream",
     "text": [
      "طاها\n",
      "طاها\n",
      "Jamie\n",
      "Supritha\n",
      "Miriam\n",
      "Adelinde\n",
      "Aiden\n",
      "Alex\n",
      "Cesar\n",
      "Christine\n"
     ]
    }
   ],
   "source": [
    "if response.status_code == 200:\n",
    "    # Parse the JSON response into a Python dictionary\n",
    "    data = response.json()\n",
    "    \n",
    "    # Extract the results containing user information\n",
    "    results = data[\"results\"]\n",
    "    \n",
    "    # Loop through the results and print the first names\n",
    "    for result in results:\n",
    "        name = result[\"name\"]\n",
    "        first_name = name[\"first\"]\n",
    "        print(first_name)\n",
    "else:\n",
    "    print(\"Error:\", response.status_code)"
   ]
  },
  {
   "cell_type": "code",
   "execution_count": 26,
   "metadata": {},
   "outputs": [
    {
     "name": "stdout",
     "output_type": "stream",
     "text": [
      "Astronauts currently in space:\n",
      "Jasmin Moghbeli\n",
      "Andreas Mogensen\n",
      "Satoshi Furukawa\n",
      "Konstantin Borisov\n",
      "Oleg Kononenko\n",
      "Nikolai Chub\n",
      "Loral O'Hara\n"
     ]
    }
   ],
   "source": [
    "# Make a GET request to the API endpoint\n",
    "response = requests.get(\"http://api.open-notify.org/astros.json\")\n",
    "\n",
    "# Check if the request was successful\n",
    "if response.status_code == 200:\n",
    "    # Parse the JSON response into a Python dictionary\n",
    "    data = response.json()\n",
    "    \n",
    "    # Extract the list of astronauts\n",
    "    astronauts = data[\"people\"]\n",
    "    \n",
    "    # Print the names of astronauts currently in space\n",
    "    print(\"Astronauts currently in space:\")\n",
    "    for astronaut in astronauts:\n",
    "        print(astronaut[\"name\"])\n",
    "else:\n",
    "    print(\"Error:\", response.status_code)\n"
   ]
  },
  {
   "cell_type": "code",
   "execution_count": 28,
   "metadata": {},
   "outputs": [
    {
     "name": "stdout",
     "output_type": "stream",
     "text": [
      "['Jasmin', 'Andreas', 'Satoshi', 'Konstantin', 'Oleg', 'Nikolai', 'Loral']\n"
     ]
    }
   ],
   "source": [
    "# Make a GET request to the API endpoint\n",
    "response = requests.get(\"http://api.open-notify.org/astros.json\")\n",
    "\n",
    "# Check if the request was successful\n",
    "if response.status_code == 200:\n",
    "    # Parse the JSON response into a Python dictionary\n",
    "    data = response.json()\n",
    "    \n",
    "    # Extract the list of astronauts\n",
    "    astronauts = data[\"people\"]\n",
    "    \n",
    "    # Create a list to store first names\n",
    "    first_names = []\n",
    "    \n",
    "    # Extract first names and append them to the list\n",
    "    for astronaut in astronauts:\n",
    "        first_name = astronaut[\"name\"].split()[0]\n",
    "        first_names.append(first_name)\n",
    "    \n",
    "    # Print the first names using pprint\n",
    "    pprint(first_names)\n",
    "else:\n",
    "    print(\"Error:\", response.status_code)\n"
   ]
  }
 ],
 "metadata": {
  "kernelspec": {
   "display_name": "Python 3",
   "language": "python",
   "name": "python3"
  },
  "language_info": {
   "codemirror_mode": {
    "name": "ipython",
    "version": 3
   },
   "file_extension": ".py",
   "mimetype": "text/x-python",
   "name": "python",
   "nbconvert_exporter": "python",
   "pygments_lexer": "ipython3",
   "version": "3.11.6"
  }
 },
 "nbformat": 4,
 "nbformat_minor": 2
}
